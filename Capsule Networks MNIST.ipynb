{
 "cells": [
  {
   "cell_type": "code",
   "execution_count": 4,
   "metadata": {},
   "outputs": [],
   "source": [
    "import numpy as np\n",
    "import matplotlib.pyplot as plt\n",
    "from datetime import datetime\n",
    "\n",
    "import torch\n",
    "import torch.nn.functional as F\n",
    "from torch import nn\n",
    "from torch.autograd import Variable\n",
    "\n",
    "import torchvision"
   ]
  },
  {
   "cell_type": "markdown",
   "metadata": {},
   "source": [
    "#### Define constants and dataset\n",
    "- TODO All these definitions should be done using CL args\n",
    "- Set important constant such as CUDA use and batch size"
   ]
  },
  {
   "cell_type": "code",
   "execution_count": 5,
   "metadata": {},
   "outputs": [],
   "source": [
    "use_gpu = torch.cuda.is_available()\n",
    "batch_size = 32\n",
    "dataset = torchvision.datasets.MNIST"
   ]
  },
  {
   "cell_type": "markdown",
   "metadata": {},
   "source": [
    "#### Create DataSet and DataLoader objects"
   ]
  },
  {
   "cell_type": "code",
   "execution_count": 6,
   "metadata": {},
   "outputs": [],
   "source": [
    "train_data = dataset('/datasets', train=True, download=False)\n",
    "test_data = dataset('/datasets', train=False, download=False)"
   ]
  },
  {
   "cell_type": "code",
   "execution_count": 7,
   "metadata": {},
   "outputs": [],
   "source": [
    "train_loader = torch.utils.data.DataLoader(train_data, batch_size=batch_size, shuffle=True, num_workers=4)\n",
    "test_loader = torch.utils.data.DataLoader(test_data, batch_size=batch_size, num_workers=4)"
   ]
  },
  {
   "cell_type": "markdown",
   "metadata": {},
   "source": [
    "### TODO List\n",
    "- TODO write routing algorithm\n",
    "- TODO write capsule layer architecture\n",
    "- TODO write capsule network architecture\n",
    "- TEST Squash function\n",
    "- TODO Review Squash"
   ]
  },
  {
   "cell_type": "code",
   "execution_count": 66,
   "metadata": {},
   "outputs": [],
   "source": [
    "def _squash(tensor):\n",
    "    '''\n",
    "    TODO test\n",
    "    TODO review input format.\n",
    "    Squash function, defined in [1]. Works as a nonlinearity for CapsNets.\n",
    "    Input tensor will be of format (bs, num_atoms, C, H, W) or (bs, num_atoms, C)\n",
    "    Norm should be computed on the axis representing the number of atoms.\n",
    "    params:\n",
    "        tensor:    torch Variable containing n-dimensional tensor\n",
    "    output:\n",
    "        (||tensor||^2 / (1+ ||tensor||^2)) * tensor/||tensor||\n",
    "    '''\n",
    "    norm = torch.norm(tensor, p=2, dim=1, keepdim=True)\n",
    "    sq_norm = norm ** 2 # Avoid computing square twice\n",
    "        \n",
    "    return tensor.div(norm) * sq_norm/(1 + sq_norm)\n",
    "\n",
    "def _leaky_routing(logits):\n",
    "    '''\n",
    "    TODO write doc\n",
    "    \n",
    "    Parameters:\n",
    "        logits: Tensor of shape (bs, input_dim, output_dim)\n",
    "    \n",
    "    '''\n",
    "    leak = torch.zeros_like(logits)\n",
    "    leak = leak.sum(dim=2, keepdim=True)\n",
    "    leaky_logits = torch.cat([logits, leak], dim=2)\n",
    "    leaky_routing = F.softmax(leaky_logits, dim=2)\n",
    "    return leaky_routing[:, :, :-1, ...]\n",
    "\n",
    "def _update_routing(votes, biases, logit_shape, num_dims, input_dim, output_dim, num_routing, leaky):\n",
    "    '''\n",
    "    TODO test\n",
    "    TODO write doc\n",
    "    Parameters:\n",
    "        votes: Tensor (bs, input_dim, output_dim, output_atoms)\n",
    "        biases: Tensor (output_dim, output_atoms)\n",
    "        logit_shape: Tensor (bs, input_dim, output_dim)\n",
    "        num_dims:\n",
    "        input_dim: Integer.\n",
    "        output_dim: Integer.\n",
    "        num_routing: Integer. Number of routing iterations.\n",
    "        leaky: Boolean. Whether to use leaky routing or not.\n",
    "    '''\n",
    "\n",
    "    votes_t_shape = [3, 0, 1, 2] # [output_atoms, bs, input_dim, output_dim, ...]\n",
    "    for i in range(num_dims - 4):\n",
    "        votes_t_shape += [i + 4]\n",
    "    r_t_shape = [1, 2, 3, 0] # [bs, input_dim, output_dim, output_atoms, ...]\n",
    "    for i in range(num_dims - 4):\n",
    "        r_t_shape += [i + 4]\n",
    "    votes_trans = votes.permute(*votes_t_shape)\n",
    "    \n",
    "    activations = None\n",
    "    logits = Variable(torch.zeros(logit_shape))\n",
    "    for i in range(num_routing):\n",
    "        # route: [bs, input_dim, output_dim]\n",
    "        if leaky:\n",
    "            route = _leaky_routing(logits)\n",
    "        else:\n",
    "            route = F.softmax(logits, dim=2)\n",
    "        \n",
    "        preactivate_unrolled = route * votes_trans\n",
    "        preact_trans = preactivate_unrolled.permute(*r_t_shape)\n",
    "        preactivate = torch.sum(preact_trans, dim=1) + biases\n",
    "        activation = _squash(preactivate)\n",
    "        if activations is None:\n",
    "            activations = torch.unsqueeze(activation, dim=-1)\n",
    "        else:\n",
    "            activations = torch.cat([activations, torch.unsqueeze(activation, dim=-1)], dim=-1)            \n",
    "        #distances: [bs, input_dim, output_dim]\n",
    "        act_3d = torch.unsqueeze(activation, dim=1)\n",
    "        tile_shape = np.ones(num_dims, dtype=np.int32).tolist()\n",
    "        tile_shape[1] = input_dim\n",
    "        act_replicated = act_3d.repeat(*tile_shape)\n",
    "        distances = torch.sum(votes * act_replicated, dim=3)\n",
    "        logits += distances\n",
    "    return activations[..., -1]"
   ]
  },
  {
   "cell_type": "code",
   "execution_count": 69,
   "metadata": {},
   "outputs": [
    {
     "name": "stdout",
     "output_type": "stream",
     "text": [
      "torch.Size([1, 2, 2])\n"
     ]
    },
    {
     "data": {
      "text/plain": [
       "Variable containing:\n",
       "(0 ,.,.) = \n",
       "  0.4259  0.4998\n",
       "  0.8518  0.8330\n",
       "[torch.FloatTensor of size 1x2x2]"
      ]
     },
     "execution_count": 69,
     "metadata": {},
     "output_type": "execute_result"
    }
   ],
   "source": [
    "votes = Variable(torch.Tensor(np.reshape(np.arange(8, dtype=np.float32), (1, 2, 2, 2))))\n",
    "biases = Variable(torch.zeros((2, 2)))\n",
    "logit_shape = (1, 2, 2)\n",
    "_update_routing(\n",
    "    votes,\n",
    "    biases, \n",
    "    logit_shape, \n",
    "    num_dims=4,\n",
    "    input_dim=2,\n",
    "    output_dim=2,\n",
    "    num_routing=1,\n",
    "    leaky=False\n",
    "    )"
   ]
  },
  {
   "cell_type": "code",
   "execution_count": 52,
   "metadata": {},
   "outputs": [
    {
     "ename": "NameError",
     "evalue": "name 'squash' is not defined",
     "output_type": "error",
     "traceback": [
      "\u001b[1;31m---------------------------------------------------------------------------\u001b[0m",
      "\u001b[1;31mNameError\u001b[0m                                 Traceback (most recent call last)",
      "\u001b[1;32m<ipython-input-52-49aaa8c0741e>\u001b[0m in \u001b[0;36m<module>\u001b[1;34m()\u001b[0m\n\u001b[1;32m----> 1\u001b[1;33m \u001b[0msquash\u001b[0m\u001b[1;33m(\u001b[0m\u001b[0mVariable\u001b[0m\u001b[1;33m(\u001b[0m\u001b[0mtorch\u001b[0m\u001b[1;33m.\u001b[0m\u001b[0mones\u001b[0m\u001b[1;33m(\u001b[0m\u001b[1;36m10\u001b[0m\u001b[1;33m,\u001b[0m\u001b[1;36m10\u001b[0m\u001b[1;33m,\u001b[0m\u001b[1;36m10\u001b[0m\u001b[1;33m,\u001b[0m\u001b[1;36m10\u001b[0m\u001b[1;33m,\u001b[0m\u001b[1;36m10\u001b[0m\u001b[1;33m)\u001b[0m\u001b[1;33m)\u001b[0m\u001b[1;33m)\u001b[0m\u001b[1;33m.\u001b[0m\u001b[0mshape\u001b[0m\u001b[1;33m\u001b[0m\u001b[0m\n\u001b[0m",
      "\u001b[1;31mNameError\u001b[0m: name 'squash' is not defined"
     ]
    }
   ],
   "source": [
    "squash(Variable(torch.ones(10,10,10,10,10))).shape"
   ]
  },
  {
   "cell_type": "markdown",
   "metadata": {},
   "source": [
    "#### Optimizer definition according to default Tensorflow initiation\n",
    "From Tensorflow [AdamOptimizer docs](https://www.tensorflow.org/api_docs/python/tf/train/AdamOptimizer):\n",
    "```\n",
    "__init__(\n",
    "    learning_rate=0.001,\n",
    "    beta1=0.9,\n",
    "    beta2=0.999,\n",
    "    epsilon=1e-08,\n",
    "    use_locking=False,\n",
    "    name='Adam'\n",
    ")```\n",
    "\n",
    "These are also the default values for torch.optim.Adam"
   ]
  },
  {
   "cell_type": "code",
   "execution_count": null,
   "metadata": {},
   "outputs": [],
   "source": [
    "optimizer = torch.optim.Adam()"
   ]
  }
 ],
 "metadata": {
  "kernelspec": {
   "display_name": "Python 3",
   "language": "python",
   "name": "python3"
  },
  "language_info": {
   "codemirror_mode": {
    "name": "ipython",
    "version": 3
   },
   "file_extension": ".py",
   "mimetype": "text/x-python",
   "name": "python",
   "nbconvert_exporter": "python",
   "pygments_lexer": "ipython3",
   "version": "3.6.4"
  }
 },
 "nbformat": 4,
 "nbformat_minor": 2
}
